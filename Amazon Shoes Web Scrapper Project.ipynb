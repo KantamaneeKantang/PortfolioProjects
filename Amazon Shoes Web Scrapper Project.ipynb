{
 "cells": [
  {
   "cell_type": "code",
   "execution_count": 2,
   "id": "b70b7817",
   "metadata": {},
   "outputs": [],
   "source": [
    "#import libraries\n",
    "\n",
    "from bs4 import BeautifulSoup\n",
    "import requests\n",
    "import time\n",
    "import datetime\n"
   ]
  },
  {
   "cell_type": "code",
   "execution_count": 3,
   "id": "c5a738cd",
   "metadata": {},
   "outputs": [],
   "source": [
    "url = \"https://www.amazon.com/Jordan-Womens-DC0774-Black-University/dp/B09S19KQBP/ref=sr_1_14?crid=256ERKW2OH8J9&keywords=nike%2Bsb%2Bdunk%2Blow&qid=1679068445&sprefix=nike%2Bsb%2Caps%2C401&sr=8-14&th=1&psc=1\"\n",
    "\n",
    "headers = {\"User-Agent\": \"Mozilla/5.0 (Windows NT 10.0; Win64; x64) AppleWebKit/537.36 (KHTML, like Gecko) Chrome/110.0.0.0 Safari/537.36\", \"Accept-Encoding\":\"gzip, deflate\", \"Accept\":\"text/html,application/xhtml+xml,application/xml;q=0.9,*/*;q=0.8\", \"DNT\":\"1\",\"Connection\":\"close\", \"Upgrade-Insecure-Requests\":\"1\"}\n"
   ]
  },
  {
   "cell_type": "code",
   "execution_count": 4,
   "id": "e9a39890",
   "metadata": {},
   "outputs": [],
   "source": [
    "#get the webpage\n",
    "\n",
    "page = requests.get(url, headers=headers)"
   ]
  },
  {
   "cell_type": "code",
   "execution_count": 5,
   "id": "745f3e90",
   "metadata": {},
   "outputs": [],
   "source": [
    "#tell BeautifulSoup where to get the data\n",
    "\n",
    "soup1 =  BeautifulSoup(page.content,\"html.parser\")"
   ]
  },
  {
   "cell_type": "code",
   "execution_count": 6,
   "id": "74411aa0",
   "metadata": {},
   "outputs": [],
   "source": [
    "#display inhtml nested stucture\n",
    "\n",
    "soup2 =  BeautifulSoup(soup1.prettify(),\"html.parser\")\n",
    "# print(soup2)"
   ]
  },
  {
   "cell_type": "code",
   "execution_count": 6,
   "id": "f8b91b60",
   "metadata": {},
   "outputs": [
    {
     "data": {
      "text/plain": [
       "<title>\n",
       "     Amazon.com | Jordan Womens WMNS Air Jordan 1 Low DC0774 041 Black/University Blue - Size 6.5W | Fashion Sneakers\n",
       "    </title>"
      ]
     },
     "execution_count": 6,
     "metadata": {},
     "output_type": "execute_result"
    }
   ],
   "source": [
    "#Look at title\n",
    "\n",
    "title = soup2.title\n",
    "title"
   ]
  },
  {
   "cell_type": "code",
   "execution_count": 7,
   "id": "b47174fe",
   "metadata": {},
   "outputs": [
    {
     "name": "stdout",
     "output_type": "stream",
     "text": [
      "Nike\n"
     ]
    }
   ],
   "source": [
    "#find brand by id\n",
    "\n",
    "brand = soup2.find(id = 'bylineInfo').text.strip()[7:]     #[7:] because it will be put in excel\n",
    "print(brand)"
   ]
  },
  {
   "cell_type": "code",
   "execution_count": 8,
   "id": "45c2e101",
   "metadata": {},
   "outputs": [
    {
     "name": "stdout",
     "output_type": "stream",
     "text": [
      "Nike Women's Air Jordan 1 Low UNC Basketball Shoe\n"
     ]
    }
   ],
   "source": [
    "#find name by id\n",
    "\n",
    "name = soup2.find(id = 'productTitle').text.strip()\n",
    "print(name)"
   ]
  },
  {
   "cell_type": "code",
   "execution_count": 9,
   "id": "5e15e8ac",
   "metadata": {},
   "outputs": [
    {
     "name": "stdout",
     "output_type": "stream",
     "text": [
      "<option class=\"dropdownSelect\" data-a-css-class=\"dropdownSelect\" data-a-html-content=\"6.5\" data-a-id=\"size_name_4\" id=\"native_size_name_4\" selected=\"\" value=\"4,B09S19KQBP\">\n",
      "                      6.5\n",
      "                     </option>\n"
     ]
    }
   ],
   "source": [
    "#find size 6.5 by inline style\n",
    "\n",
    "size = soup2.find(\"select\", {'name':'dropdown_selected_size_name'}).find(\"option\",{\"class\":\"dropdownSelect\"})\n",
    "print(size)"
   ]
  },
  {
   "cell_type": "code",
   "execution_count": 10,
   "id": "52597717",
   "metadata": {},
   "outputs": [
    {
     "data": {
      "text/plain": [
       "bs4.element.Tag"
      ]
     },
     "execution_count": 10,
     "metadata": {},
     "output_type": "execute_result"
    }
   ],
   "source": [
    "type(size)"
   ]
  },
  {
   "cell_type": "code",
   "execution_count": 11,
   "id": "508dea6e",
   "metadata": {},
   "outputs": [
    {
     "data": {
      "text/plain": [
       "'6.5'"
      ]
     },
     "execution_count": 11,
     "metadata": {},
     "output_type": "execute_result"
    }
   ],
   "source": [
    "size_selected = ''.join(map(str,size)).strip()\n",
    "size_selected"
   ]
  },
  {
   "cell_type": "code",
   "execution_count": 12,
   "id": "dcd6bf81",
   "metadata": {},
   "outputs": [
    {
     "data": {
      "text/plain": [
       "str"
      ]
     },
     "execution_count": 12,
     "metadata": {},
     "output_type": "execute_result"
    }
   ],
   "source": [
    "type(size_selected)"
   ]
  },
  {
   "cell_type": "code",
   "execution_count": 13,
   "id": "79215fdf",
   "metadata": {},
   "outputs": [
    {
     "data": {
      "text/plain": [
       "<option class=\"dropdownSelect\" data-a-css-class=\"dropdownSelect\" data-a-html-content=\"Black/University Blue-white\" data-a-id=\"color_name_17\" id=\"native_color_name_17\" selected=\"\" value=\"17,B09S19KQBP\">\n",
       "                      Black/University Blue-white\n",
       "                     </option>"
      ]
     },
     "execution_count": 13,
     "metadata": {},
     "output_type": "execute_result"
    }
   ],
   "source": [
    "#find color selected\n",
    "\n",
    "options = soup2.find(\"select\",{\"name\":\"dropdown_selected_color_name\"}).find(\"option\",{\"class\":\"dropdownSelect\"})\n",
    "options"
   ]
  },
  {
   "cell_type": "code",
   "execution_count": 14,
   "id": "43a75ee8",
   "metadata": {},
   "outputs": [
    {
     "data": {
      "text/plain": [
       "bs4.element.Tag"
      ]
     },
     "execution_count": 14,
     "metadata": {},
     "output_type": "execute_result"
    }
   ],
   "source": [
    "type(options)"
   ]
  },
  {
   "cell_type": "code",
   "execution_count": 15,
   "id": "ba7c0972",
   "metadata": {},
   "outputs": [
    {
     "data": {
      "text/plain": [
       "'Black/University Blue-white'"
      ]
     },
     "execution_count": 15,
     "metadata": {},
     "output_type": "execute_result"
    }
   ],
   "source": [
    "color_selected = ''.join(map(str,options)).strip()\n",
    "color_selected"
   ]
  },
  {
   "cell_type": "code",
   "execution_count": 16,
   "id": "2c1bd9b9",
   "metadata": {},
   "outputs": [
    {
     "name": "stdout",
     "output_type": "stream",
     "text": [
      "229.99\n"
     ]
    }
   ],
   "source": [
    "#find price by inline style\n",
    "\n",
    "price = soup2.find('span', {'class': 'a-offscreen'}).text.strip()[1:]\n",
    "print(price)"
   ]
  },
  {
   "cell_type": "code",
   "execution_count": 17,
   "id": "d65cc9cc",
   "metadata": {},
   "outputs": [
    {
     "name": "stdout",
     "output_type": "stream",
     "text": [
      "2023-03-27\n"
     ]
    }
   ],
   "source": [
    "#Add Date time\n",
    "\n",
    "import datetime\n",
    "\n",
    "today = datetime.date.today()\n",
    "print(today)"
   ]
  },
  {
   "cell_type": "code",
   "execution_count": 18,
   "id": "810ef999",
   "metadata": {},
   "outputs": [],
   "source": [
    "#create csv file\n",
    "\n",
    "import csv\n",
    "\n",
    "header = ['Brand','Name','Size','Color','Price','Date']\n",
    "data = [brand, name, size_selected, color_selected, price, today]\n",
    "\n",
    "#with open('AmazonShoes.csv', 'w', newline='', encoding='UTF8') as f:\n",
    "    #writer = csv.writer(f)\n",
    "    #writer.writerow(header)\n",
    "    #writer.writerow(data)\n",
    "    \n",
    "    \n",
    "# **put # because if restart computer, should run all again except this part**"
   ]
  },
  {
   "cell_type": "code",
   "execution_count": 19,
   "id": "2ed52d20",
   "metadata": {},
   "outputs": [
    {
     "data": {
      "text/html": [
       "<div>\n",
       "<style scoped>\n",
       "    .dataframe tbody tr th:only-of-type {\n",
       "        vertical-align: middle;\n",
       "    }\n",
       "\n",
       "    .dataframe tbody tr th {\n",
       "        vertical-align: top;\n",
       "    }\n",
       "\n",
       "    .dataframe thead th {\n",
       "        text-align: right;\n",
       "    }\n",
       "</style>\n",
       "<table border=\"1\" class=\"dataframe\">\n",
       "  <thead>\n",
       "    <tr style=\"text-align: right;\">\n",
       "      <th></th>\n",
       "      <th>Brand</th>\n",
       "      <th>Name</th>\n",
       "      <th>Size</th>\n",
       "      <th>Color</th>\n",
       "      <th>Price</th>\n",
       "      <th>Date</th>\n",
       "    </tr>\n",
       "  </thead>\n",
       "  <tbody>\n",
       "    <tr>\n",
       "      <th>0</th>\n",
       "      <td>Nike</td>\n",
       "      <td>Nike Women's Air Jordan 1 Low UNC Basketball Shoe</td>\n",
       "      <td>6.5</td>\n",
       "      <td>Black/University Blue-white</td>\n",
       "      <td>229.99</td>\n",
       "      <td>2023-03-21</td>\n",
       "    </tr>\n",
       "    <tr>\n",
       "      <th>1</th>\n",
       "      <td>Nike</td>\n",
       "      <td>Nike Women's Air Jordan 1 Low UNC Basketball Shoe</td>\n",
       "      <td>6.5</td>\n",
       "      <td>Black/University Blue-white</td>\n",
       "      <td>229.99</td>\n",
       "      <td>2023-03-21</td>\n",
       "    </tr>\n",
       "    <tr>\n",
       "      <th>2</th>\n",
       "      <td>Nike</td>\n",
       "      <td>Nike Women's Air Jordan 1 Low UNC Basketball Shoe</td>\n",
       "      <td>6.5</td>\n",
       "      <td>Black/University Blue-white</td>\n",
       "      <td>229.99</td>\n",
       "      <td>2023-03-21</td>\n",
       "    </tr>\n",
       "    <tr>\n",
       "      <th>3</th>\n",
       "      <td>Nike</td>\n",
       "      <td>Nike Women's Air Jordan 1 Low UNC Basketball Shoe</td>\n",
       "      <td>6.5</td>\n",
       "      <td>Black/University Blue-white</td>\n",
       "      <td>229.99</td>\n",
       "      <td>2023-03-21</td>\n",
       "    </tr>\n",
       "    <tr>\n",
       "      <th>4</th>\n",
       "      <td>Nike</td>\n",
       "      <td>Nike Women's Air Jordan 1 Low UNC Basketball Shoe</td>\n",
       "      <td>6.5</td>\n",
       "      <td>Black/University Blue-white</td>\n",
       "      <td>229.99</td>\n",
       "      <td>2023-03-21</td>\n",
       "    </tr>\n",
       "    <tr>\n",
       "      <th>5</th>\n",
       "      <td>Nike</td>\n",
       "      <td>Nike Women's Air Jordan 1 Low UNC Basketball Shoe</td>\n",
       "      <td>6.5</td>\n",
       "      <td>Black/University Blue-white</td>\n",
       "      <td>229.99</td>\n",
       "      <td>2023-03-21</td>\n",
       "    </tr>\n",
       "  </tbody>\n",
       "</table>\n",
       "</div>"
      ],
      "text/plain": [
       "  Brand                                               Name  Size  \\\n",
       "0  Nike  Nike Women's Air Jordan 1 Low UNC Basketball Shoe   6.5   \n",
       "1  Nike  Nike Women's Air Jordan 1 Low UNC Basketball Shoe   6.5   \n",
       "2  Nike  Nike Women's Air Jordan 1 Low UNC Basketball Shoe   6.5   \n",
       "3  Nike  Nike Women's Air Jordan 1 Low UNC Basketball Shoe   6.5   \n",
       "4  Nike  Nike Women's Air Jordan 1 Low UNC Basketball Shoe   6.5   \n",
       "5  Nike  Nike Women's Air Jordan 1 Low UNC Basketball Shoe   6.5   \n",
       "\n",
       "                         Color   Price        Date  \n",
       "0  Black/University Blue-white  229.99  2023-03-21  \n",
       "1  Black/University Blue-white  229.99  2023-03-21  \n",
       "2  Black/University Blue-white  229.99  2023-03-21  \n",
       "3  Black/University Blue-white  229.99  2023-03-21  \n",
       "4  Black/University Blue-white  229.99  2023-03-21  \n",
       "5  Black/University Blue-white  229.99  2023-03-21  "
      ]
     },
     "execution_count": 19,
     "metadata": {},
     "output_type": "execute_result"
    }
   ],
   "source": [
    "#read csv file\n",
    "\n",
    "import pandas as pd\n",
    "\n",
    "df = pd.read_csv(r\"C:\\Users\\Lenovo\\AmazonShoes.csv\")\n",
    "df"
   ]
  },
  {
   "cell_type": "code",
   "execution_count": 20,
   "id": "c53d478f",
   "metadata": {},
   "outputs": [],
   "source": [
    "# appending data to the csv\n",
    "\n",
    "with open('AmazonShoes.csv', 'a+', newline='', encoding='UTF8') as f:\n",
    "    writer = csv.writer(f)\n",
    "    writer.writerow(data)   #add only a new data"
   ]
  },
  {
   "cell_type": "code",
   "execution_count": 21,
   "id": "16d73cbc",
   "metadata": {},
   "outputs": [],
   "source": [
    "# make the above to be automated (don't have to run manually every morning)\n",
    "\n",
    "#creat funtion\n",
    "\n",
    "def check_price():\n",
    "    \n",
    "    url = \"https://www.amazon.com/Jordan-Womens-DC0774-Black-University/dp/B09S19KQBP/ref=sr_1_14?crid=256ERKW2OH8J9&keywords=nike%2Bsb%2Bdunk%2Blow&qid=1679068445&sprefix=nike%2Bsb%2Caps%2C401&sr=8-14&th=1&psc=1\"\n",
    "\n",
    "    headers = {\"User-Agent\": \"Mozilla/5.0 (Windows NT 10.0; Win64; x64) AppleWebKit/537.36 (KHTML, like Gecko) Chrome/110.0.0.0 Safari/537.36\", \"Accept-Encoding\":\"gzip, deflate\", \"Accept\":\"text/html,application/xhtml+xml,application/xml;q=0.9,*/*;q=0.8\", \"DNT\":\"1\",\"Connection\":\"close\", \"Upgrade-Insecure-Requests\":\"1\"}\n",
    "\n",
    "    page = requests.get(url, headers=headers)\n",
    "    \n",
    "    soup1 =  BeautifulSoup(page.content,\"html.parser\")\n",
    "    \n",
    "    soup2 =  BeautifulSoup(soup1.prettify(),\"html.parser\")\n",
    "    \n",
    "    brand = soup2.find(id = 'bylineInfo').text.strip()[7:]     #[7:] because it will be put in excel\n",
    "    \n",
    "    name = soup2.find(id = 'productTitle').text.strip()\n",
    "    \n",
    "    size = soup2.find(\"select\", {'name':'dropdown_selected_size_name'}).find(\"option\",{\"class\":\"dropdownSelect\"})\n",
    "    size_selected = ''.join(map(str,size)).strip()\n",
    "    \n",
    "    options = soup2.find(\"select\",{\"name\":\"dropdown_selected_color_name\"}).find(\"option\",{\"class\":\"dropdownSelect\"})\n",
    "    color_selected = ''.join(map(str,options)).strip()\n",
    "    \n",
    "    \n",
    "    import datetime\n",
    "    \n",
    "    today = datetime.date.today()\n",
    "    \n",
    "    \n",
    "    import csv\n",
    "\n",
    "    header = ['Brand','Name','Size','Color','Price','Date']\n",
    "    data = [brand, name, size_selected, color_selected, price, today]\n",
    "    \n",
    "    with open('AmazonShoes.csv', 'a+', newline='', encoding='UTF8') as f:\n",
    "        writer = csv.writer(f)\n",
    "        writer.writerow(data)   #add only a new data\n",
    "    \n",
    "    # if want to send email\n",
    "    \n",
    "    #if(price < 14):    #to send email when price below 14\n",
    "    #send_mail()\n"
   ]
  },
  {
   "cell_type": "code",
   "execution_count": null,
   "id": "0c4e47c8",
   "metadata": {},
   "outputs": [],
   "source": [
    "#check time\n",
    "\n",
    "while(True):\n",
    "    check_price()\n",
    "    time.sleep(86400)  #normally every 5 sec it will run through the entire process  (if 1 day: 86400 = 60x60x24 /1day)"
   ]
  },
  {
   "cell_type": "code",
   "execution_count": null,
   "id": "9b410ea9",
   "metadata": {},
   "outputs": [],
   "source": [
    "import pandas as pd\n",
    "\n",
    "df = pd.read_csv(r\"C:\\Users\\Lenovo\\AmazonShoes.csv\")\n",
    "df"
   ]
  },
  {
   "cell_type": "code",
   "execution_count": null,
   "id": "ffe66a41",
   "metadata": {},
   "outputs": [],
   "source": [
    "def send_mail():\n",
    "    server = smtplib.SMTP_SSL('smtp.gmail.com', 465)\n",
    "    server.ehlo()\n",
    "    #server.starttis()\n",
    "    server.ehlo()\n",
    "    server.login('xxxkantamanee@gmail.com', 'xxx')\n",
    "    \n",
    "    Subject = 'The Shoes you want is below $190! Now is your chance to buy!'\n",
    "    body = \"This is the moment we have been waiting for. Now is your chance to pick the shirt of your dreams. Don't miss it\"\n",
    "    \n",
    "    msg = f\"Subject: {subject}\\n\\n{body}\"\n",
    "    \n",
    "    server.sendmail(\n",
    "    \n",
    "        'xxxkantamanee@gmail.com',\n",
    "        msg\n",
    "        \n",
    "    )"
   ]
  },
  {
   "cell_type": "code",
   "execution_count": null,
   "id": "bb8fb211",
   "metadata": {},
   "outputs": [],
   "source": []
  },
  {
   "cell_type": "code",
   "execution_count": null,
   "id": "1cb78eaa",
   "metadata": {},
   "outputs": [],
   "source": []
  },
  {
   "cell_type": "code",
   "execution_count": null,
   "id": "abfd327e",
   "metadata": {},
   "outputs": [],
   "source": []
  },
  {
   "cell_type": "code",
   "execution_count": null,
   "id": "e3b37e5f",
   "metadata": {},
   "outputs": [],
   "source": []
  },
  {
   "cell_type": "code",
   "execution_count": null,
   "id": "7265389b",
   "metadata": {},
   "outputs": [],
   "source": []
  },
  {
   "cell_type": "code",
   "execution_count": null,
   "id": "fcd1abd3",
   "metadata": {},
   "outputs": [],
   "source": []
  },
  {
   "cell_type": "code",
   "execution_count": null,
   "id": "e0b5df95",
   "metadata": {},
   "outputs": [],
   "source": []
  },
  {
   "cell_type": "code",
   "execution_count": null,
   "id": "77f42746",
   "metadata": {},
   "outputs": [],
   "source": []
  }
 ],
 "metadata": {
  "kernelspec": {
   "display_name": "Python 3 (ipykernel)",
   "language": "python",
   "name": "python3"
  },
  "language_info": {
   "codemirror_mode": {
    "name": "ipython",
    "version": 3
   },
   "file_extension": ".py",
   "mimetype": "text/x-python",
   "name": "python",
   "nbconvert_exporter": "python",
   "pygments_lexer": "ipython3",
   "version": "3.9.13"
  }
 },
 "nbformat": 4,
 "nbformat_minor": 5
}
